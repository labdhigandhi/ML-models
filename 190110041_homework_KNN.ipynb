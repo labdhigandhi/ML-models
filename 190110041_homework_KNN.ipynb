{
  "nbformat": 4,
  "nbformat_minor": 0,
  "metadata": {
    "colab": {
      "name": "Copy of Welcome To Colaboratory",
      "provenance": [],
      "collapsed_sections": [],
      "toc_visible": true
    },
    "kernelspec": {
      "display_name": "Python 3",
      "name": "python3"
    }
  },
  "cells": [
    {
      "cell_type": "code",
      "metadata": {
        "colab": {
          "base_uri": "https://localhost:8080/",
          "height": 464
        },
        "id": "mPrzzYfPYgBW",
        "outputId": "df27f68b-507f-4bcd-968a-5df62e464d38"
      },
      "source": [
        "# Imports\r\n",
        "import pandas as pd\r\n",
        "import numpy as np\r\n",
        "from matplotlib import pyplot as plt\r\n",
        "from sklearn.model_selection import train_test_split\r\n",
        "from sklearn.neighbors import KNeighborsClassifier\r\n",
        "from sklearn.preprocessing import StandardScaler\r\n",
        "from sklearn.metrics import classification_report, confusion_matrix, ConfusionMatrixDisplay\r\n",
        "\r\n",
        "# Loading from URL to Pandas Dataframe.\r\n",
        "\r\n",
        "# dataset URL\r\n",
        "URL = 'https://raw.githubusercontent.com/labdhigandhi/FlightDelays/main/transfusion.data'\r\n",
        "\r\n",
        "# Read dataset to pandas dataframe.\r\n",
        "dataset = pd.read_csv(URL)\r\n",
        "\r\n",
        "# verify loaded dataset\r\n",
        "print('\\nLoaded dataset in Pandas Dataframe:\\n')\r\n",
        "dataset.info()\r\n",
        "\r\n",
        "print('Sample entries in dataset')\r\n",
        "# first 5 entries\r\n",
        "dataset.head(n=5)"
      ],
      "execution_count": 5,
      "outputs": [
        {
          "output_type": "stream",
          "text": [
            "\n",
            "Loaded dataset in Pandas Dataframe:\n",
            "\n",
            "<class 'pandas.core.frame.DataFrame'>\n",
            "RangeIndex: 748 entries, 0 to 747\n",
            "Data columns (total 5 columns):\n",
            " #   Column                                      Non-Null Count  Dtype\n",
            "---  ------                                      --------------  -----\n",
            " 0   Recency (months)                            748 non-null    int64\n",
            " 1   Frequency (times)                           748 non-null    int64\n",
            " 2   Monetary (c.c. blood)                       748 non-null    int64\n",
            " 3   Time (months)                               748 non-null    int64\n",
            " 4   whether he/she donated blood in March 2007  748 non-null    int64\n",
            "dtypes: int64(5)\n",
            "memory usage: 29.3 KB\n",
            "Sample entries in dataset\n"
          ],
          "name": "stdout"
        },
        {
          "output_type": "execute_result",
          "data": {
            "text/html": [
              "<div>\n",
              "<style scoped>\n",
              "    .dataframe tbody tr th:only-of-type {\n",
              "        vertical-align: middle;\n",
              "    }\n",
              "\n",
              "    .dataframe tbody tr th {\n",
              "        vertical-align: top;\n",
              "    }\n",
              "\n",
              "    .dataframe thead th {\n",
              "        text-align: right;\n",
              "    }\n",
              "</style>\n",
              "<table border=\"1\" class=\"dataframe\">\n",
              "  <thead>\n",
              "    <tr style=\"text-align: right;\">\n",
              "      <th></th>\n",
              "      <th>Recency (months)</th>\n",
              "      <th>Frequency (times)</th>\n",
              "      <th>Monetary (c.c. blood)</th>\n",
              "      <th>Time (months)</th>\n",
              "      <th>whether he/she donated blood in March 2007</th>\n",
              "    </tr>\n",
              "  </thead>\n",
              "  <tbody>\n",
              "    <tr>\n",
              "      <th>0</th>\n",
              "      <td>2</td>\n",
              "      <td>50</td>\n",
              "      <td>12500</td>\n",
              "      <td>98</td>\n",
              "      <td>1</td>\n",
              "    </tr>\n",
              "    <tr>\n",
              "      <th>1</th>\n",
              "      <td>0</td>\n",
              "      <td>13</td>\n",
              "      <td>3250</td>\n",
              "      <td>28</td>\n",
              "      <td>1</td>\n",
              "    </tr>\n",
              "    <tr>\n",
              "      <th>2</th>\n",
              "      <td>1</td>\n",
              "      <td>16</td>\n",
              "      <td>4000</td>\n",
              "      <td>35</td>\n",
              "      <td>1</td>\n",
              "    </tr>\n",
              "    <tr>\n",
              "      <th>3</th>\n",
              "      <td>2</td>\n",
              "      <td>20</td>\n",
              "      <td>5000</td>\n",
              "      <td>45</td>\n",
              "      <td>1</td>\n",
              "    </tr>\n",
              "    <tr>\n",
              "      <th>4</th>\n",
              "      <td>1</td>\n",
              "      <td>24</td>\n",
              "      <td>6000</td>\n",
              "      <td>77</td>\n",
              "      <td>0</td>\n",
              "    </tr>\n",
              "  </tbody>\n",
              "</table>\n",
              "</div>"
            ],
            "text/plain": [
              "   Recency (months)  ...  whether he/she donated blood in March 2007\n",
              "0                 2  ...                                           1\n",
              "1                 0  ...                                           1\n",
              "2                 1  ...                                           1\n",
              "3                 2  ...                                           1\n",
              "4                 1  ...                                           0\n",
              "\n",
              "[5 rows x 5 columns]"
            ]
          },
          "metadata": {
            "tags": []
          },
          "execution_count": 5
        }
      ]
    },
    {
      "cell_type": "code",
      "metadata": {
        "colab": {
          "base_uri": "https://localhost:8080/"
        },
        "id": "ng6bPYn_aXxY",
        "outputId": "4e43db93-8083-42a8-c95d-1060fc3ef363"
      },
      "source": [
        "# dataset statistics \r\n",
        "def classwise_means(df):\r\n",
        "    \"\"\"Prints classwise averages for attributes present in the dataset (df).\"\"\"\r\n",
        "    print('Classes in dataset: ')\r\n",
        "    class_labels = df['whether he/she donated blood in March 2007'].unique()\r\n",
        "    print(class_labels)\r\n",
        "    print('\\n')\r\n",
        "    print('Class-wise Attribute Averages')\r\n",
        "    print(df.groupby(['whether he/she donated blood in March 2007']).mean())\r\n",
        "\r\n",
        "classwise_means(dataset)"
      ],
      "execution_count": 6,
      "outputs": [
        {
          "output_type": "stream",
          "text": [
            "Classes in dataset: \n",
            "[1 0]\n",
            "\n",
            "\n",
            "Class-wise Attribute Averages\n",
            "                                            Recency (months)  ...  Time (months)\n",
            "whether he/she donated blood in March 2007                    ...               \n",
            "0                                                  10.771930  ...      34.770175\n",
            "1                                                   5.455056  ...      32.719101\n",
            "\n",
            "[2 rows x 4 columns]\n"
          ],
          "name": "stdout"
        }
      ]
    },
    {
      "cell_type": "code",
      "metadata": {
        "colab": {
          "base_uri": "https://localhost:8080/"
        },
        "id": "TbCxqKdQayHP",
        "outputId": "0e839f07-c311-40f5-fe18-dfe5f1e8e0f9"
      },
      "source": [
        "# Split data into Features, Labels\r\n",
        "\r\n",
        "# first 4 columns correspond to features, 5th column contains the class labels\r\n",
        "X = dataset.iloc[:, :4].values\r\n",
        "Y = dataset.iloc[:, 4].values\r\n",
        "\r\n",
        "# Train-Test split\r\n",
        "\r\n",
        "# Following an 80-20 split on data.\r\n",
        "# That is, 598 examples would be used as the training set with known labels,\r\n",
        "# and performance of the KNN algorithm will be tested on the remaining 150 unseen examples.\r\n",
        "\r\n",
        "# The dataset is shuffled with 10 as the random seed for reproducible results.\r\n",
        "X_train, X_test, y_train, y_test = train_test_split(X, Y, shuffle=True, random_state=10, test_size=0.20)\r\n",
        "\r\n",
        "print(\"Number of train samples: \", len(X_train))\r\n",
        "print(\"Number of test samples: \", len(X_test))\r\n",
        "\r\n",
        "# Feature normalization\r\n",
        "# Refer to https://scikit-learn.org/stable/modules/preprocessing.html#standardization-or-mean-removal-and-variance-scaling\r\n",
        "scaler = StandardScaler()\r\n",
        "scaler.fit(X_train)\r\n",
        "X_train = scaler.transform(X_train)\r\n",
        "X_test = scaler.transform(X_test)"
      ],
      "execution_count": 8,
      "outputs": [
        {
          "output_type": "stream",
          "text": [
            "Number of train samples:  598\n",
            "Number of test samples:  150\n"
          ],
          "name": "stdout"
        }
      ]
    },
    {
      "cell_type": "code",
      "metadata": {
        "colab": {
          "base_uri": "https://localhost:8080/",
          "height": 430
        },
        "id": "8T43lwlTbUcn",
        "outputId": "2c2379ea-255b-42eb-ccb5-236517e7486d"
      },
      "source": [
        "# Fit model to training data\r\n",
        "\r\n",
        "# Refer: https://scikit-learn.org/stable/modules/neighbors.html#nearest-neighbors-classification and\r\n",
        "# https://scikit-learn.org/stable/modules/generated/sklearn.neighbors.KNeighborsClassifier.html#sklearn.neighbors.KNeighborsClassifier\r\n",
        "classifier = KNeighborsClassifier(n_neighbors=4)\r\n",
        "classifier.fit(X_train, y_train)\r\n",
        "\r\n",
        "# Evaluate on test data \r\n",
        "y_pred = classifier.predict(X_test)\r\n",
        "\r\n",
        "# Confusion Matrix\r\n",
        "class_labels = dataset['whether he/she donated blood in March 2007'].unique()\r\n",
        "cm = confusion_matrix(y_test, y_pred, labels=class_labels)\r\n",
        "disp = ConfusionMatrixDisplay(confusion_matrix=cm, display_labels=class_labels)\r\n",
        "disp.plot()\r\n",
        "\r\n",
        "# Performance Statistics\r\n",
        "print(classification_report(y_test, y_pred))"
      ],
      "execution_count": 12,
      "outputs": [
        {
          "output_type": "stream",
          "text": [
            "              precision    recall  f1-score   support\n",
            "\n",
            "           0       0.81      0.98      0.89       115\n",
            "           1       0.80      0.23      0.36        35\n",
            "\n",
            "    accuracy                           0.81       150\n",
            "   macro avg       0.80      0.61      0.62       150\n",
            "weighted avg       0.81      0.81      0.76       150\n",
            "\n"
          ],
          "name": "stdout"
        },
        {
          "output_type": "display_data",
          "data": {
            "image/png": "[encoded data removed]",
            "text/plain": [
              "<Figure size 432x288 with 2 Axes>"
            ]
          },
          "metadata": {
            "tags": [],
            "needs_background": "light"
          }
        }
      ]
    },
    {
      "cell_type": "code",
      "metadata": {
        "colab": {
          "base_uri": "https://localhost:8080/",
          "height": 367
        },
        "id": "S_Ih0kKlcAuv",
        "outputId": "b196ea6a-340e-4ee3-ec26-53a5f9eac08d"
      },
      "source": [
        "#Effect of parameter 'K' (number of neighbours)\r\n",
        "# line graph plot\r\n",
        "def simple_line_plot(y_values, x_values, title, xtitle, ytitle):\r\n",
        "    \"\"\"Plots a lineplot for given data.\"\"\"\r\n",
        "    plt.figure(figsize=(10,5))\r\n",
        "    plt.plot(x_values, y_values, marker='o')\r\n",
        "    plt.title(title)\r\n",
        "    plt.xlabel(xtitle)\r\n",
        "    plt.ylabel(ytitle)\r\n",
        "    plt.show()\r\n",
        "\r\n",
        "# testing out performance of the KNN algorithm for different values of K\r\n",
        "accuracies = []\r\n",
        "\r\n",
        "K_vals = list(range(1, 50))\r\n",
        "\r\n",
        "for k in K_vals:\r\n",
        "    knn = KNeighborsClassifier(n_neighbors=k)\r\n",
        "    knn.fit(X_train, y_train)\r\n",
        "    pred_i = knn.predict(X_test)\r\n",
        "    accuracies.append((1-np.mean(pred_i != y_test))*100)\r\n",
        "    \r\n",
        "simple_line_plot(accuracies, K_vals, 'Model Accuracy vs K', \r\n",
        "                'K', 'Accuracy (%)')\r\n",
        "\r\n",
        "accuracies=np.array(accuracies)\r\n",
        "\r\n",
        "print(\"The model achieves 100% Test accuracy for K =\", list(np.where(accuracies==100)[0]))    "
      ],
      "execution_count": 13,
      "outputs": [
        {
          "output_type": "display_data",
          "data": {
            "image/png": "[encoded data removed]",
            "text/plain": [
              "<Figure size 720x360 with 1 Axes>"
            ]
          },
          "metadata": {
            "tags": [],
            "needs_background": "light"
          }
        },
        {
          "output_type": "stream",
          "text": [
            "The model achieves 100% Test accuracy for K = []\n"
          ],
          "name": "stdout"
        }
      ]
    }
  ]
}